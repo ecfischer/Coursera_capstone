{
 "cells": [
  {
   "cell_type": "markdown",
   "metadata": {},
   "source": [
    "# Clustering neighborhoods across countries\n",
    "This project is part of the Applied Data Science Capstone project. It is based on a representative business problem. \n",
    "\n",
    "#### Business problem\n",
    "A coffee chain have multiple locations in New York City and are looking to open their first location in Toronto, Canada. However, not all location in NYC are equally productive. The task is to find the best neighborhood for the new Toronto location.\n",
    "\n",
    "Their location in Williamsburg (Bedford X S 1st, Brooklyn) is their most successful location and sales are much higher here than in their location in the Upper East Side (Madison X E 80th, Manhattan; fictional information). They think that the local business environment plays a role. An approach to solve problem is to find a Toronto neighborhood where the local business environment resembles Williamsburg more so than the Upper East side.\n",
    "\n",
    "#### A solution based on the Foursquare API\n",
    "Foursquare API allows us to locate businesses in an area and access user provided scores. This can provide data sets that allow us to cluster together neighborhoods based on the available businesses and their ratings in an area. Such data sets allows us build a clustering model that can group together neighborhood from both NYC and Toronto neighborhoods, based on their similarity. \n",
    "\n",
    "The challenge will be to identify a model that captures the difference between Upper East Side and Williamsburg. Such model could then be used to cluster Toronto neighborhoods as well. \n",
    "\n",
    "The data sets will be calls to the Foursquare API for venues in the relevant area that return venue name/id, location, categories, as well as user rating information. The will allow us to analyze the composition of businesses in each neighborhood but also how the customers percieve the businesses (as a measure for quality). "
   ]
  },
  {
   "cell_type": "code",
   "execution_count": null,
   "metadata": {},
   "outputs": [],
   "source": []
  }
 ],
 "metadata": {
  "kernelspec": {
   "display_name": "Python 3",
   "language": "python",
   "name": "python3"
  },
  "language_info": {
   "codemirror_mode": {
    "name": "ipython",
    "version": 3
   },
   "file_extension": ".py",
   "mimetype": "text/x-python",
   "name": "python",
   "nbconvert_exporter": "python",
   "pygments_lexer": "ipython3",
   "version": "3.7.4"
  }
 },
 "nbformat": 4,
 "nbformat_minor": 2
}
